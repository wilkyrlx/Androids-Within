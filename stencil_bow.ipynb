{
  "cells": [
    {
      "cell_type": "markdown",
      "metadata": {
        "id": "view-in-github",
        "colab_type": "text"
      },
      "source": [
        "<a href=\"https://colab.research.google.com/github/wilkyrlx/androids-within/blob/main/stencil_bow.ipynb\" target=\"_parent\"><img src=\"https://colab.research.google.com/assets/colab-badge.svg\" alt=\"Open In Colab\"/></a>"
      ]
    },
    {
      "cell_type": "markdown",
      "metadata": {
        "id": "eIC7W3qEZy6o"
      },
      "source": [
        "# 💰️Bag-of-Words Model for Sentiment Classification"
      ]
    },
    {
      "cell_type": "markdown",
      "metadata": {
        "id": "AGoidRLpZy6w"
      },
      "source": [
        "## Introduction"
      ]
    },
    {
      "cell_type": "markdown",
      "metadata": {
        "id": "Kb7FP8sBZy6w"
      },
      "source": [
        "Welcome to your first assignment! In this assignment, you will be implementing your very first NLP model (woohoo!) - a bag-of-words (BOW) model for sentiment classification. You will be using a very useful NLP libary (spaCy), and a popular machine learning library (scikit-learn, or sklearn) to help you with preprocessing the data and building the BOW model. In later lectures and assignments, you will learn to implement many of these NLP and machine learning functions yourself, but in \"the real world\" it is often more practical to use existing libraries, like those provided by spaCy and sklearn, than to implement these algorithms from scratch. So here we want you to learn how to use these libraries in a practical setting, and we'll learn later more about how they work \"under the hood\".\n",
        "\n",
        "The main learning objectives for this assignment are:\n",
        "\n",
        "1. Use sklearn to implement a standard ML workflow (featurization, designing train-test splits, training a model, and evaluating the model).\n",
        "2. Use spaCy for standard NLP preprocessing steps (tokenization, lemmatization, tagging).\n",
        "3. Understand and implement common featurization approaches for text classifiers (ngrams, weighting schemas, tagging).\n",
        "\n",
        "The basic workflow for an NLP model contains the following steps:\n",
        "\n",
        "1. Load and explore the data\n",
        "2. Preprocess the data\n",
        "3. Extract features\n",
        "4. Train the model\n",
        "5. Evaluate the model\n",
        "6. Analyze model behavior\n",
        "\n",
        "You will implement this full workflow in Part 1. In Part 2, you will experiment with improvements to step 2 (preprocessing). In Part 3, you will experiment with improvements to step 3 (featurization)."
      ]
    },
    {
      "cell_type": "markdown",
      "metadata": {
        "id": "tESbIOp4Zy6y"
      },
      "source": [
        "## Before you start"
      ]
    },
    {
      "cell_type": "markdown",
      "metadata": {
        "id": "J7JcSXneZy6z"
      },
      "source": [
        "In this class, we will be using Google Colab notebooks for assignments instead of regular Python files. Colab provides more efficient Google GPUs and is easier for setting up. Colab is also a very powerful platform and it functions very similarly to a Jupyter notebook. We'll provide a few tips on how to use Colab below; make sure you read them carefully!\n",
        "\n",
        "☝ **Quick Colab Tips:**\n",
        "\n",
        "- Make sure you **create a copy** of the Colab file before you start coding!! (File > Save a copy in Drive). If you don't do this, you will lose everything when you close the page and we DON'T want that to happen to you!\n",
        "- To run a cell, press the play button in its top left corner. Make sure you run all previous cells before running the next one, so that every function and variable you need is defined.\n",
        "- If you don't want to run each cell individually, you can click Runtime and you will find \"Run Before\", \"Run After\", or \"Run All\".\n",
        "- When you reload the page, the runtime restarts and all variables in the environment are cleared. This means that you will need to re-run cells.\n",
        "- If you make changes to a definition in an earlier cell, remember to run the cell to actually update the definition. Then remember to re-run all the cells after using that definition, or else they will still be using the previous value.\n",
        "- For more tips on getting started, please take a look at this [video](https://www.youtube.com/watch?v=inN8seMm7UI&ab_channel=TensorFlow)."
      ]
    },
    {
      "cell_type": "markdown",
      "metadata": {
        "id": "XnKGrey8cZp2"
      },
      "source": [
        "## Installation and Imports\n",
        "☝ **Quick Tip:** You can add \"**!**\" in front a Linux command and it can run on Colab!\n",
        "\n",
        "The following code will ask to access your Google Drive; you will be downloading the dataset used in this assignment to your Google Drive, and uploading it via this access."
      ]
    },
    {
      "cell_type": "code",
      "execution_count": 1,
      "metadata": {
        "id": "rXyZnyPJc2Ze",
        "colab": {
          "base_uri": "https://localhost:8080/"
        },
        "outputId": "51f3c3c0-eda1-4df9-9d2a-9859a3a30456"
      },
      "outputs": [
        {
          "output_type": "stream",
          "name": "stdout",
          "text": [
            "Requirement already satisfied: spacy in /usr/local/lib/python3.10/dist-packages (3.7.6)\n",
            "Requirement already satisfied: spacy-legacy<3.1.0,>=3.0.11 in /usr/local/lib/python3.10/dist-packages (from spacy) (3.0.12)\n",
            "Requirement already satisfied: spacy-loggers<2.0.0,>=1.0.0 in /usr/local/lib/python3.10/dist-packages (from spacy) (1.0.5)\n",
            "Requirement already satisfied: murmurhash<1.1.0,>=0.28.0 in /usr/local/lib/python3.10/dist-packages (from spacy) (1.0.10)\n",
            "Requirement already satisfied: cymem<2.1.0,>=2.0.2 in /usr/local/lib/python3.10/dist-packages (from spacy) (2.0.8)\n",
            "Requirement already satisfied: preshed<3.1.0,>=3.0.2 in /usr/local/lib/python3.10/dist-packages (from spacy) (3.0.9)\n",
            "Requirement already satisfied: thinc<8.3.0,>=8.2.2 in /usr/local/lib/python3.10/dist-packages (from spacy) (8.2.5)\n",
            "Requirement already satisfied: wasabi<1.2.0,>=0.9.1 in /usr/local/lib/python3.10/dist-packages (from spacy) (1.1.3)\n",
            "Requirement already satisfied: srsly<3.0.0,>=2.4.3 in /usr/local/lib/python3.10/dist-packages (from spacy) (2.4.8)\n",
            "Requirement already satisfied: catalogue<2.1.0,>=2.0.6 in /usr/local/lib/python3.10/dist-packages (from spacy) (2.0.10)\n",
            "Requirement already satisfied: weasel<0.5.0,>=0.1.0 in /usr/local/lib/python3.10/dist-packages (from spacy) (0.4.1)\n",
            "Requirement already satisfied: typer<1.0.0,>=0.3.0 in /usr/local/lib/python3.10/dist-packages (from spacy) (0.12.5)\n",
            "Requirement already satisfied: tqdm<5.0.0,>=4.38.0 in /usr/local/lib/python3.10/dist-packages (from spacy) (4.66.5)\n",
            "Requirement already satisfied: requests<3.0.0,>=2.13.0 in /usr/local/lib/python3.10/dist-packages (from spacy) (2.32.3)\n",
            "Requirement already satisfied: pydantic!=1.8,!=1.8.1,<3.0.0,>=1.7.4 in /usr/local/lib/python3.10/dist-packages (from spacy) (2.9.1)\n",
            "Requirement already satisfied: jinja2 in /usr/local/lib/python3.10/dist-packages (from spacy) (3.1.4)\n",
            "Requirement already satisfied: setuptools in /usr/local/lib/python3.10/dist-packages (from spacy) (71.0.4)\n",
            "Requirement already satisfied: packaging>=20.0 in /usr/local/lib/python3.10/dist-packages (from spacy) (24.1)\n",
            "Requirement already satisfied: langcodes<4.0.0,>=3.2.0 in /usr/local/lib/python3.10/dist-packages (from spacy) (3.4.0)\n",
            "Requirement already satisfied: numpy>=1.19.0 in /usr/local/lib/python3.10/dist-packages (from spacy) (1.26.4)\n",
            "Requirement already satisfied: language-data>=1.2 in /usr/local/lib/python3.10/dist-packages (from langcodes<4.0.0,>=3.2.0->spacy) (1.2.0)\n",
            "Requirement already satisfied: annotated-types>=0.6.0 in /usr/local/lib/python3.10/dist-packages (from pydantic!=1.8,!=1.8.1,<3.0.0,>=1.7.4->spacy) (0.7.0)\n",
            "Requirement already satisfied: pydantic-core==2.23.3 in /usr/local/lib/python3.10/dist-packages (from pydantic!=1.8,!=1.8.1,<3.0.0,>=1.7.4->spacy) (2.23.3)\n",
            "Requirement already satisfied: typing-extensions>=4.6.1 in /usr/local/lib/python3.10/dist-packages (from pydantic!=1.8,!=1.8.1,<3.0.0,>=1.7.4->spacy) (4.12.2)\n",
            "Requirement already satisfied: charset-normalizer<4,>=2 in /usr/local/lib/python3.10/dist-packages (from requests<3.0.0,>=2.13.0->spacy) (3.3.2)\n",
            "Requirement already satisfied: idna<4,>=2.5 in /usr/local/lib/python3.10/dist-packages (from requests<3.0.0,>=2.13.0->spacy) (3.8)\n",
            "Requirement already satisfied: urllib3<3,>=1.21.1 in /usr/local/lib/python3.10/dist-packages (from requests<3.0.0,>=2.13.0->spacy) (2.0.7)\n",
            "Requirement already satisfied: certifi>=2017.4.17 in /usr/local/lib/python3.10/dist-packages (from requests<3.0.0,>=2.13.0->spacy) (2024.8.30)\n",
            "Requirement already satisfied: blis<0.8.0,>=0.7.8 in /usr/local/lib/python3.10/dist-packages (from thinc<8.3.0,>=8.2.2->spacy) (0.7.11)\n",
            "Requirement already satisfied: confection<1.0.0,>=0.0.1 in /usr/local/lib/python3.10/dist-packages (from thinc<8.3.0,>=8.2.2->spacy) (0.1.5)\n",
            "Requirement already satisfied: click>=8.0.0 in /usr/local/lib/python3.10/dist-packages (from typer<1.0.0,>=0.3.0->spacy) (8.1.7)\n",
            "Requirement already satisfied: shellingham>=1.3.0 in /usr/local/lib/python3.10/dist-packages (from typer<1.0.0,>=0.3.0->spacy) (1.5.4)\n",
            "Requirement already satisfied: rich>=10.11.0 in /usr/local/lib/python3.10/dist-packages (from typer<1.0.0,>=0.3.0->spacy) (13.8.1)\n",
            "Requirement already satisfied: cloudpathlib<1.0.0,>=0.7.0 in /usr/local/lib/python3.10/dist-packages (from weasel<0.5.0,>=0.1.0->spacy) (0.19.0)\n",
            "Requirement already satisfied: smart-open<8.0.0,>=5.2.1 in /usr/local/lib/python3.10/dist-packages (from weasel<0.5.0,>=0.1.0->spacy) (7.0.4)\n",
            "Requirement already satisfied: MarkupSafe>=2.0 in /usr/local/lib/python3.10/dist-packages (from jinja2->spacy) (2.1.5)\n",
            "Requirement already satisfied: marisa-trie>=0.7.7 in /usr/local/lib/python3.10/dist-packages (from language-data>=1.2->langcodes<4.0.0,>=3.2.0->spacy) (1.2.0)\n",
            "Requirement already satisfied: markdown-it-py>=2.2.0 in /usr/local/lib/python3.10/dist-packages (from rich>=10.11.0->typer<1.0.0,>=0.3.0->spacy) (3.0.0)\n",
            "Requirement already satisfied: pygments<3.0.0,>=2.13.0 in /usr/local/lib/python3.10/dist-packages (from rich>=10.11.0->typer<1.0.0,>=0.3.0->spacy) (2.16.1)\n",
            "Requirement already satisfied: wrapt in /usr/local/lib/python3.10/dist-packages (from smart-open<8.0.0,>=5.2.1->weasel<0.5.0,>=0.1.0->spacy) (1.16.0)\n",
            "Requirement already satisfied: mdurl~=0.1 in /usr/local/lib/python3.10/dist-packages (from markdown-it-py>=2.2.0->rich>=10.11.0->typer<1.0.0,>=0.3.0->spacy) (0.1.2)\n",
            "Collecting en-core-web-sm==3.7.1\n",
            "  Downloading https://github.com/explosion/spacy-models/releases/download/en_core_web_sm-3.7.1/en_core_web_sm-3.7.1-py3-none-any.whl (12.8 MB)\n",
            "\u001b[2K     \u001b[90m━━━━━━━━━━━━━━━━━━━━━━━━━━━━━━━━━━━━━━━━\u001b[0m \u001b[32m12.8/12.8 MB\u001b[0m \u001b[31m75.1 MB/s\u001b[0m eta \u001b[36m0:00:00\u001b[0m\n",
            "\u001b[?25hRequirement already satisfied: spacy<3.8.0,>=3.7.2 in /usr/local/lib/python3.10/dist-packages (from en-core-web-sm==3.7.1) (3.7.6)\n",
            "Requirement already satisfied: spacy-legacy<3.1.0,>=3.0.11 in /usr/local/lib/python3.10/dist-packages (from spacy<3.8.0,>=3.7.2->en-core-web-sm==3.7.1) (3.0.12)\n",
            "Requirement already satisfied: spacy-loggers<2.0.0,>=1.0.0 in /usr/local/lib/python3.10/dist-packages (from spacy<3.8.0,>=3.7.2->en-core-web-sm==3.7.1) (1.0.5)\n",
            "Requirement already satisfied: murmurhash<1.1.0,>=0.28.0 in /usr/local/lib/python3.10/dist-packages (from spacy<3.8.0,>=3.7.2->en-core-web-sm==3.7.1) (1.0.10)\n",
            "Requirement already satisfied: cymem<2.1.0,>=2.0.2 in /usr/local/lib/python3.10/dist-packages (from spacy<3.8.0,>=3.7.2->en-core-web-sm==3.7.1) (2.0.8)\n",
            "Requirement already satisfied: preshed<3.1.0,>=3.0.2 in /usr/local/lib/python3.10/dist-packages (from spacy<3.8.0,>=3.7.2->en-core-web-sm==3.7.1) (3.0.9)\n",
            "Requirement already satisfied: thinc<8.3.0,>=8.2.2 in /usr/local/lib/python3.10/dist-packages (from spacy<3.8.0,>=3.7.2->en-core-web-sm==3.7.1) (8.2.5)\n",
            "Requirement already satisfied: wasabi<1.2.0,>=0.9.1 in /usr/local/lib/python3.10/dist-packages (from spacy<3.8.0,>=3.7.2->en-core-web-sm==3.7.1) (1.1.3)\n",
            "Requirement already satisfied: srsly<3.0.0,>=2.4.3 in /usr/local/lib/python3.10/dist-packages (from spacy<3.8.0,>=3.7.2->en-core-web-sm==3.7.1) (2.4.8)\n",
            "Requirement already satisfied: catalogue<2.1.0,>=2.0.6 in /usr/local/lib/python3.10/dist-packages (from spacy<3.8.0,>=3.7.2->en-core-web-sm==3.7.1) (2.0.10)\n",
            "Requirement already satisfied: weasel<0.5.0,>=0.1.0 in /usr/local/lib/python3.10/dist-packages (from spacy<3.8.0,>=3.7.2->en-core-web-sm==3.7.1) (0.4.1)\n",
            "Requirement already satisfied: typer<1.0.0,>=0.3.0 in /usr/local/lib/python3.10/dist-packages (from spacy<3.8.0,>=3.7.2->en-core-web-sm==3.7.1) (0.12.5)\n",
            "Requirement already satisfied: tqdm<5.0.0,>=4.38.0 in /usr/local/lib/python3.10/dist-packages (from spacy<3.8.0,>=3.7.2->en-core-web-sm==3.7.1) (4.66.5)\n",
            "Requirement already satisfied: requests<3.0.0,>=2.13.0 in /usr/local/lib/python3.10/dist-packages (from spacy<3.8.0,>=3.7.2->en-core-web-sm==3.7.1) (2.32.3)\n",
            "Requirement already satisfied: pydantic!=1.8,!=1.8.1,<3.0.0,>=1.7.4 in /usr/local/lib/python3.10/dist-packages (from spacy<3.8.0,>=3.7.2->en-core-web-sm==3.7.1) (2.9.1)\n",
            "Requirement already satisfied: jinja2 in /usr/local/lib/python3.10/dist-packages (from spacy<3.8.0,>=3.7.2->en-core-web-sm==3.7.1) (3.1.4)\n",
            "Requirement already satisfied: setuptools in /usr/local/lib/python3.10/dist-packages (from spacy<3.8.0,>=3.7.2->en-core-web-sm==3.7.1) (71.0.4)\n",
            "Requirement already satisfied: packaging>=20.0 in /usr/local/lib/python3.10/dist-packages (from spacy<3.8.0,>=3.7.2->en-core-web-sm==3.7.1) (24.1)\n",
            "Requirement already satisfied: langcodes<4.0.0,>=3.2.0 in /usr/local/lib/python3.10/dist-packages (from spacy<3.8.0,>=3.7.2->en-core-web-sm==3.7.1) (3.4.0)\n",
            "Requirement already satisfied: numpy>=1.19.0 in /usr/local/lib/python3.10/dist-packages (from spacy<3.8.0,>=3.7.2->en-core-web-sm==3.7.1) (1.26.4)\n",
            "Requirement already satisfied: language-data>=1.2 in /usr/local/lib/python3.10/dist-packages (from langcodes<4.0.0,>=3.2.0->spacy<3.8.0,>=3.7.2->en-core-web-sm==3.7.1) (1.2.0)\n",
            "Requirement already satisfied: annotated-types>=0.6.0 in /usr/local/lib/python3.10/dist-packages (from pydantic!=1.8,!=1.8.1,<3.0.0,>=1.7.4->spacy<3.8.0,>=3.7.2->en-core-web-sm==3.7.1) (0.7.0)\n",
            "Requirement already satisfied: pydantic-core==2.23.3 in /usr/local/lib/python3.10/dist-packages (from pydantic!=1.8,!=1.8.1,<3.0.0,>=1.7.4->spacy<3.8.0,>=3.7.2->en-core-web-sm==3.7.1) (2.23.3)\n",
            "Requirement already satisfied: typing-extensions>=4.6.1 in /usr/local/lib/python3.10/dist-packages (from pydantic!=1.8,!=1.8.1,<3.0.0,>=1.7.4->spacy<3.8.0,>=3.7.2->en-core-web-sm==3.7.1) (4.12.2)\n",
            "Requirement already satisfied: charset-normalizer<4,>=2 in /usr/local/lib/python3.10/dist-packages (from requests<3.0.0,>=2.13.0->spacy<3.8.0,>=3.7.2->en-core-web-sm==3.7.1) (3.3.2)\n",
            "Requirement already satisfied: idna<4,>=2.5 in /usr/local/lib/python3.10/dist-packages (from requests<3.0.0,>=2.13.0->spacy<3.8.0,>=3.7.2->en-core-web-sm==3.7.1) (3.8)\n",
            "Requirement already satisfied: urllib3<3,>=1.21.1 in /usr/local/lib/python3.10/dist-packages (from requests<3.0.0,>=2.13.0->spacy<3.8.0,>=3.7.2->en-core-web-sm==3.7.1) (2.0.7)\n",
            "Requirement already satisfied: certifi>=2017.4.17 in /usr/local/lib/python3.10/dist-packages (from requests<3.0.0,>=2.13.0->spacy<3.8.0,>=3.7.2->en-core-web-sm==3.7.1) (2024.8.30)\n",
            "Requirement already satisfied: blis<0.8.0,>=0.7.8 in /usr/local/lib/python3.10/dist-packages (from thinc<8.3.0,>=8.2.2->spacy<3.8.0,>=3.7.2->en-core-web-sm==3.7.1) (0.7.11)\n",
            "Requirement already satisfied: confection<1.0.0,>=0.0.1 in /usr/local/lib/python3.10/dist-packages (from thinc<8.3.0,>=8.2.2->spacy<3.8.0,>=3.7.2->en-core-web-sm==3.7.1) (0.1.5)\n",
            "Requirement already satisfied: click>=8.0.0 in /usr/local/lib/python3.10/dist-packages (from typer<1.0.0,>=0.3.0->spacy<3.8.0,>=3.7.2->en-core-web-sm==3.7.1) (8.1.7)\n",
            "Requirement already satisfied: shellingham>=1.3.0 in /usr/local/lib/python3.10/dist-packages (from typer<1.0.0,>=0.3.0->spacy<3.8.0,>=3.7.2->en-core-web-sm==3.7.1) (1.5.4)\n",
            "Requirement already satisfied: rich>=10.11.0 in /usr/local/lib/python3.10/dist-packages (from typer<1.0.0,>=0.3.0->spacy<3.8.0,>=3.7.2->en-core-web-sm==3.7.1) (13.8.1)\n",
            "Requirement already satisfied: cloudpathlib<1.0.0,>=0.7.0 in /usr/local/lib/python3.10/dist-packages (from weasel<0.5.0,>=0.1.0->spacy<3.8.0,>=3.7.2->en-core-web-sm==3.7.1) (0.19.0)\n",
            "Requirement already satisfied: smart-open<8.0.0,>=5.2.1 in /usr/local/lib/python3.10/dist-packages (from weasel<0.5.0,>=0.1.0->spacy<3.8.0,>=3.7.2->en-core-web-sm==3.7.1) (7.0.4)\n",
            "Requirement already satisfied: MarkupSafe>=2.0 in /usr/local/lib/python3.10/dist-packages (from jinja2->spacy<3.8.0,>=3.7.2->en-core-web-sm==3.7.1) (2.1.5)\n",
            "Requirement already satisfied: marisa-trie>=0.7.7 in /usr/local/lib/python3.10/dist-packages (from language-data>=1.2->langcodes<4.0.0,>=3.2.0->spacy<3.8.0,>=3.7.2->en-core-web-sm==3.7.1) (1.2.0)\n",
            "Requirement already satisfied: markdown-it-py>=2.2.0 in /usr/local/lib/python3.10/dist-packages (from rich>=10.11.0->typer<1.0.0,>=0.3.0->spacy<3.8.0,>=3.7.2->en-core-web-sm==3.7.1) (3.0.0)\n",
            "Requirement already satisfied: pygments<3.0.0,>=2.13.0 in /usr/local/lib/python3.10/dist-packages (from rich>=10.11.0->typer<1.0.0,>=0.3.0->spacy<3.8.0,>=3.7.2->en-core-web-sm==3.7.1) (2.16.1)\n",
            "Requirement already satisfied: wrapt in /usr/local/lib/python3.10/dist-packages (from smart-open<8.0.0,>=5.2.1->weasel<0.5.0,>=0.1.0->spacy<3.8.0,>=3.7.2->en-core-web-sm==3.7.1) (1.16.0)\n",
            "Requirement already satisfied: mdurl~=0.1 in /usr/local/lib/python3.10/dist-packages (from markdown-it-py>=2.2.0->rich>=10.11.0->typer<1.0.0,>=0.3.0->spacy<3.8.0,>=3.7.2->en-core-web-sm==3.7.1) (0.1.2)\n",
            "\u001b[38;5;2m✔ Download and installation successful\u001b[0m\n",
            "You can now load the package via spacy.load('en_core_web_sm')\n",
            "\u001b[38;5;3m⚠ Restart to reload dependencies\u001b[0m\n",
            "If you are in a Jupyter or Colab notebook, you may need to restart Python in\n",
            "order to load all the package's dependencies. You can do this by selecting the\n",
            "'Restart kernel' or 'Restart runtime' option.\n",
            "Requirement already satisfied: scikit-learn in /usr/local/lib/python3.10/dist-packages (1.3.2)\n",
            "Requirement already satisfied: numpy<2.0,>=1.17.3 in /usr/local/lib/python3.10/dist-packages (from scikit-learn) (1.26.4)\n",
            "Requirement already satisfied: scipy>=1.5.0 in /usr/local/lib/python3.10/dist-packages (from scikit-learn) (1.13.1)\n",
            "Requirement already satisfied: joblib>=1.1.1 in /usr/local/lib/python3.10/dist-packages (from scikit-learn) (1.4.2)\n",
            "Requirement already satisfied: threadpoolctl>=2.0.0 in /usr/local/lib/python3.10/dist-packages (from scikit-learn) (3.5.0)\n",
            "Mounted at /content/drive\n"
          ]
        }
      ],
      "source": [
        "!pip install spacy\n",
        "!python -m spacy download en_core_web_sm\n",
        "!pip install scikit-learn\n",
        "\n",
        "import os\n",
        "import spacy\n",
        "\n",
        "import numpy as np\n",
        "import pandas as pd\n",
        "import pickle\n",
        "from typing import TypeAlias\n",
        "\n",
        "from google.colab import drive\n",
        "drive.mount(\"/content/drive\", force_remount=True)"
      ]
    },
    {
      "cell_type": "markdown",
      "metadata": {
        "id": "DAgJ7cm-nUJ0"
      },
      "source": [
        "# Part 1: BOW Workflow\n"
      ]
    },
    {
      "cell_type": "markdown",
      "metadata": {
        "id": "-LFmmfC40yvK"
      },
      "source": [
        "### Step 1: Load the raw data and explore it\n"
      ]
    },
    {
      "cell_type": "markdown",
      "metadata": {
        "id": "SgkVdcg-g_A2"
      },
      "source": [
        "In this assignment, we'll be using a dataset of tweets pulled from Twitter. Download the dataset [from Google Drive here](https://drive.google.com/file/d/1Rx-HWAWFVD5oJjIQL5u0fxvbPrBnLwmJ/view?usp=sharing). Add it to your own Google Drive and change the `FOLDER` variable below to reflect its location. (Generally it should start with \"/content\\/drive\\/My Drive\". You can click on the file icon on the bar on the left to see how your Drive has been mounted. Click the three dots to the right of the folder and \"Copy path\" to get the path to your folder.)\n",
        "\n",
        "In the dataset, the tweets are classified according to three categories of sentiment: positive, negative and neutral. We will use the tweets in the `text` column and the sentiments in the `sentiment` column of the CSV file. Feel free to read the Pandas documentation [here](https://pandas.pydata.org/docs/reference/api/pandas.read_csv.html) if you are unfamiliar with Pandas Dataframes.\n"
      ]
    },
    {
      "cell_type": "code",
      "execution_count": 13,
      "metadata": {
        "id": "ruKcSLB7qmV1"
      },
      "outputs": [],
      "source": [
        "FOLDER = \"/content/drive/My Drive/senior/S1/cs1460/[0] BOW\"\n",
        "FILEPATH = f\"{FOLDER}/Tweets_5K.csv\""
      ]
    },
    {
      "cell_type": "code",
      "execution_count": 17,
      "metadata": {
        "id": "szjiUpBdl1Ub"
      },
      "outputs": [],
      "source": [
        "def load_data(filepath: str) -> tuple[list[str], list[int]]:\n",
        "    \"\"\"\n",
        "    Loads Twitter data into two lists.\n",
        "\n",
        "    Returns\n",
        "    -------\n",
        "    raw_tweets : list[str]\n",
        "        A list of all Tweets in the dataset\n",
        "    labels : list[int]\n",
        "        A list of the sentiments corresponding to each raw tweet encoded as integers,\n",
        "        -1 meaning negative, 0 meaning neutral, and 1 meaning positive\n",
        "    \"\"\"\n",
        "    # TODO: Load data from the CSV file using filepath\n",
        "    # Remember to map positive tweets to 1, neutral tweets to 0, and negative tweets to -1.\n",
        "\n",
        "    sentiment_map = {\n",
        "        'positive': 1,\n",
        "        'neutral': 0,\n",
        "        'negative': -1\n",
        "    }\n",
        "\n",
        "    df = pd.read_csv(filepath)\n",
        "\n",
        "    df['sentiment'] = df['sentiment'].map(sentiment_map)\n",
        "\n",
        "    raw_tweets = df['text'].tolist()\n",
        "    labels = df['sentiment'].tolist()\n",
        "\n",
        "    return raw_tweets, labels"
      ]
    },
    {
      "cell_type": "markdown",
      "metadata": {
        "id": "79FM4wqYFDUn"
      },
      "source": [
        "Before you start to preprocess data, you should always take a look at the dataset and get a sense of the data you're handling.\n"
      ]
    },
    {
      "cell_type": "code",
      "execution_count": 18,
      "metadata": {
        "id": "RuXYtIARFZ_I",
        "colab": {
          "base_uri": "https://localhost:8080/"
        },
        "outputId": "2e8ab20f-b6e7-470f-dee7-f2707f4d2dad"
      },
      "outputs": [
        {
          "output_type": "stream",
          "name": "stdout",
          "text": [
            "0:\t I`d have responded, if I were going\n",
            "\n",
            "-1:\t Sooo SAD I will miss you here in San Diego!!!\n",
            "\n",
            "-1:\tmy boss is bullying me...\n",
            "\n",
            "-1:\t what interview! leave me alone\n",
            "\n",
            "-1:\t Sons of ****, why couldn`t they put them on the releases we already bought\n",
            "\n",
            "0:\thttp://www.dothebouncy.com/smf - some shameless plugging for the best Rangers forum on earth\n",
            "\n",
            "1:\t2am feedings for the baby are fun when he is all smiles and coos\n",
            "\n",
            "0:\tSoooo high\n",
            "\n",
            "0:\t Both of you\n",
            "\n",
            "1:\t Journey!? Wow... u just became cooler.  hehe... (is that possible!?)\n",
            "\n"
          ]
        }
      ],
      "source": [
        "raw_tweets, labels = load_data(FILEPATH)\n",
        "for p, label in zip(raw_tweets[:10], labels[:10]):\n",
        "    print(f\"{label}:\\t{p}\\n\")"
      ]
    },
    {
      "cell_type": "markdown",
      "metadata": {
        "id": "EznlXSqYRwUd"
      },
      "source": [
        "We can use matplotlib to see the ratio between the number of positive, negative and neutral tweets.\n"
      ]
    },
    {
      "cell_type": "code",
      "execution_count": 19,
      "metadata": {
        "id": "TbL8lmGqR4W1",
        "colab": {
          "base_uri": "https://localhost:8080/",
          "height": 472
        },
        "outputId": "af764b25-cc82-4c8d-d372-12b30a2af332"
      },
      "outputs": [
        {
          "output_type": "display_data",
          "data": {
            "text/plain": [
              "<Figure size 640x480 with 1 Axes>"
            ],
            "image/png": "[encoded data removed]"
          },
          "metadata": {}
        }
      ],
      "source": [
        "import matplotlib.pyplot as plt\n",
        "\n",
        "plt.figure()\n",
        "pd.Series(labels).value_counts().plot.bar(title=\"Sentiment Distribution in Tweets\")\n",
        "plt.xticks(rotation=0)\n",
        "plt.xlabel(\"Sentiment\")\n",
        "plt.ylabel(\"Number of Tweets\")\n",
        "plt.show()"
      ]
    },
    {
      "cell_type": "markdown",
      "metadata": {
        "id": "bHTnM_KmhSX4"
      },
      "source": [
        "### Step 2: Preprocess the data\n"
      ]
    },
    {
      "cell_type": "markdown",
      "metadata": {
        "id": "LpaUKiGIR0O9"
      },
      "source": [
        "For now, all you need to do for preprocessing is split the tweets by whitespace.\n"
      ]
    },
    {
      "cell_type": "code",
      "execution_count": 23,
      "metadata": {
        "id": "IS_vaKZYhW8p",
        "colab": {
          "base_uri": "https://localhost:8080/"
        },
        "outputId": "dba0258b-4b6e-42fd-88ec-4b322205c4c3"
      },
      "outputs": [
        {
          "output_type": "execute_result",
          "data": {
            "text/plain": [
              "[['test', 'one', 'two'], ['gdg', 'gdgd', 'j']]"
            ]
          },
          "metadata": {},
          "execution_count": 23
        }
      ],
      "source": [
        "def preprocess(raw_X: list[str]) -> list[list[str]]:\n",
        "    \"\"\"\n",
        "    Performs splitting on whitespace on all raw strings in a list.\n",
        "\n",
        "    Parameters\n",
        "    ----------\n",
        "    raw_X : list[str]\n",
        "        A list of raw strings (tweets)\n",
        "\n",
        "    Returns\n",
        "    -------\n",
        "    list[list[str]]\n",
        "        A list of preprocessed tweets (which are now lists of words)\n",
        "    \"\"\"\n",
        "    # TODO Basic tokenization just based on whitespace, with no other preprocessing\n",
        "    ret = []\n",
        "    for s in raw_X:\n",
        "      ret.append(s.split())\n",
        "\n",
        "    return ret\n",
        "\n",
        "# sanity check\n",
        "preprocess([\"test one two \", \" gdg    gdgd j\"])"
      ]
    },
    {
      "cell_type": "markdown",
      "metadata": {
        "id": "y2hYek_ZiEG8"
      },
      "source": [
        "### Steps 3 & 4: Define featurization + train and test functions\n"
      ]
    },
    {
      "cell_type": "code",
      "execution_count": null,
      "metadata": {
        "id": "R0hIpa31iFcV"
      },
      "outputs": [],
      "source": [
        "from scipy.sparse import csr_matrix\n",
        "from sklearn.feature_extraction import DictVectorizer\n",
        "from sklearn.linear_model import LogisticRegression\n",
        "\n",
        "class BOW_Classifier:\n",
        "    \"\"\"\n",
        "    Attributes\n",
        "    ----------\n",
        "    clf : LogisticRegression\n",
        "        A logistic regression classifier\n",
        "    dv : DictVectorizer\n",
        "        A dictionary vectorizer for turning dictionaries into matrices\n",
        "    \"\"\"\n",
        "\n",
        "    def __init__(self):\n",
        "        # TODO: Initialize class attributes\n",
        "        # HINT: Use max_iter=150 when initializing your LogisticRegression classifier to get expected performance!\n",
        "        # You are allowed to ignore the DictVectorizer dv attribute, as well as add more to the init method, if you wish\n",
        "        self.clf = LogisticRegression(max_iter=150)\n",
        "        self.dv = DictVectorizer(sparse=True)\n",
        "\n",
        "    def featurize(self, preproc_X: np.ndarray[list[str]], is_test: bool = False) -> csr_matrix:\n",
        "        \"\"\"\n",
        "        Turns a list of preprocessed tweets into a binary bag-of-words matrix.\n",
        "\n",
        "        Parameters\n",
        "        ----------\n",
        "        preproc_X : np.ndarray[list[str]]\n",
        "            A list of preprocessed tweets\n",
        "        is_test: bool, default=False\n",
        "            Whether featurization should be done using features learned during training (is_test=True)\n",
        "            or whether it should be done with features extracted from scratch using preproc_X (is_test=False)\n",
        "\n",
        "        Returns\n",
        "        -------\n",
        "        csr_matrix\n",
        "            A matrix with rows corresponding to tweets and columns corresponding to words\n",
        "        \"\"\"\n",
        "        # TODO: Implement a binary bag-of-words for unigrams\n",
        "        pass\n",
        "\n",
        "    def train(self, X_train: np.ndarray[list[str]], y_train: np.ndarray[int]):\n",
        "        \"\"\"\n",
        "        Trains the BOW classifier on the given training data.\n",
        "\n",
        "        Parameters\n",
        "        ----------\n",
        "        X_train : np.ndarray[list[str]]\n",
        "            Preprocessed tweets for training\n",
        "        y_train : np.ndarray[int]\n",
        "            Sentiments corresponding to the tweets in X_train\n",
        "        \"\"\"\n",
        "        # TODO\n",
        "        pass\n",
        "\n",
        "    def test(self, X_test: np.ndarray[list[str]]) -> np.ndarray[int]:\n",
        "        \"\"\"\n",
        "        Classifies the given test data and returns predicted sentiments.\n",
        "\n",
        "        Parameters\n",
        "        ----------\n",
        "        X_test : np.ndarray[list[str]]\n",
        "            Preprocessed tweets for testing\n",
        "\n",
        "        Returns\n",
        "        -------\n",
        "        y_pred : np.ndarray[int]\n",
        "            Predicted sentiments for the tweets in X_test\n",
        "        \"\"\"\n",
        "        # TODO\n",
        "        pass"
      ]
    },
    {
      "cell_type": "markdown",
      "metadata": {
        "id": "D0WMMAoGjlFT"
      },
      "source": [
        "### Step 5: Evaluate the model\n"
      ]
    },
    {
      "cell_type": "markdown",
      "metadata": {
        "id": "vgqYc0tqjpkr"
      },
      "source": [
        "To evaluate the model, we need to simulate the \"real world\" setting in which we have trained on our model on the data we have, but now we are using it to assign labels to data we have never seen before. We will do this using stratified k-fold cross validation.\n",
        "\n",
        "Cross-validation is a resampling procedure used to evaluate machine learning models on a limited data sample. The procedure has a single parameter called `k` that refers to the number of groups that a given data sample is to be split into. As such, the procedure is often called k-fold cross-validation. This procedure is called \"stratified\" when the data is divided so that examples from each class (in this case, the classes are the three sentiments) are distributed evenly among all folds.\n"
      ]
    },
    {
      "cell_type": "code",
      "execution_count": null,
      "metadata": {
        "id": "XVS-vcP2joXG"
      },
      "outputs": [],
      "source": [
        "from sklearn.model_selection import StratifiedKFold\n",
        "from sklearn.metrics import accuracy_score\n",
        "\n",
        "def run_kfold_crossval(\n",
        "    model: BOW_Classifier, X: list[list[str]], y: list[int], k: int = 5\n",
        ") -> list[float]:\n",
        "    \"\"\"\n",
        "    Executes k-fold cross-validation.\n",
        "\n",
        "    Parameters\n",
        "    ----------\n",
        "    model : BOW_Classifier\n",
        "        A BOW model that has train and test methods\n",
        "    X : list[list[str]]\n",
        "        Preprocessed tweets for training and testing\n",
        "    y : list[int]\n",
        "        Sentiments corresponding to the tweets in X\n",
        "    k : int, default=5\n",
        "        The number of folds to use for cross-validation\n",
        "\n",
        "    Returns\n",
        "    -------\n",
        "    list[float]\n",
        "        A list of accuracy values from testing with each fold\n",
        "    \"\"\"\n",
        "    # TODO: Implement stratified k-fold cross-validation with a BOW_Classifier model\n",
        "    # HINT: Consult the documentation for the imports at the top of this cell\n",
        "    # HINT 2: If you have trouble casting a ragged nested list to a numpy array, try passing dtype=list\n",
        "    pass"
      ]
    },
    {
      "cell_type": "markdown",
      "metadata": {
        "id": "lOz9M-b8laaq"
      },
      "source": [
        "### Step 6: Plotting model performance\n"
      ]
    },
    {
      "cell_type": "markdown",
      "metadata": {
        "id": "wddNvm-Rlb7M"
      },
      "source": [
        "This function will plot how well our model is doing. :)\n"
      ]
    },
    {
      "cell_type": "code",
      "execution_count": null,
      "metadata": {
        "id": "F3Q5XsZglda0"
      },
      "outputs": [],
      "source": [
        "def plot_perfs(perfs: list[list[float]], names: list[str], k: int = 5):\n",
        "    \"\"\"\n",
        "    Plots performances of models in a bar chart.\n",
        "\n",
        "    Parameters\n",
        "    ----------\n",
        "    perfs : list[list[float]]\n",
        "        A list of accuracy results for each model\n",
        "    names : list[str]\n",
        "        The names of each of the models (in the same order as perfs)\n",
        "    k : int, default=5\n",
        "        The value of k used for cross-validation when producing the performances\n",
        "    \"\"\"\n",
        "    means = []\n",
        "    stds = []\n",
        "    for i, perf in enumerate(perfs):\n",
        "        mean = np.mean(perf)\n",
        "        means.append(mean)\n",
        "        stds.append(np.std(perf))\n",
        "        print(\"%s:\\t%.03f\" % (names[i], mean))\n",
        "    plt.bar(np.arange(len(means)), means, yerr=stds)\n",
        "    plt.xticks(np.arange(len(names)), names)\n",
        "    plt.ylabel(f\"Accuracy with {k} Folds\")\n",
        "    plt.ylim(0, 1)\n",
        "    plt.show()"
      ]
    },
    {
      "cell_type": "markdown",
      "metadata": {
        "id": "hngtdUFUn0P6"
      },
      "source": [
        "### Step 7: Run the full workflow!\n"
      ]
    },
    {
      "cell_type": "code",
      "execution_count": null,
      "metadata": {
        "id": "oBiT5f1Bn34C"
      },
      "outputs": [],
      "source": [
        "from collections import Counter\n",
        "\n",
        "K_FOLD = 10\n",
        "raw_tweets, y = load_data(FILEPATH)\n",
        "\n",
        "X_preproc = preprocess(raw_tweets)\n",
        "bow_model = BOW_Classifier()\n",
        "basic_bow_accs = run_kfold_crossval(bow_model, X_preproc, y, k=K_FOLD)\n",
        "\n",
        "# here, we are going generate the \"most frequent class\" baseline based on the training data\n",
        "counts = Counter(y).values()\n",
        "mfc_baseline = [max(counts) / sum(counts)] * K_FOLD\n",
        "\n",
        "# plot the results!\n",
        "plot_perfs([mfc_baseline, basic_bow_accs], [\"MFC Baseline\", \"Basic BOW\"], k=K_FOLD)"
      ]
    },
    {
      "cell_type": "markdown",
      "metadata": {
        "id": "GBN_jXx8fq4C"
      },
      "source": [
        "# Part 2: Improved Preprocessing\n"
      ]
    },
    {
      "cell_type": "markdown",
      "metadata": {
        "id": "wqObqbbplLJ5"
      },
      "source": [
        "In this section, we are going to improve the preprocessing step, but otherwise keep the above workflow the same.\n"
      ]
    },
    {
      "cell_type": "markdown",
      "metadata": {
        "id": "F3sLallHnUJ7"
      },
      "source": [
        "### Loading Data with Spacy\n",
        "\n",
        "The cell block below will load the dataset into spacy_processed_docs, a list of spaCy docs (spacy.tokens.doc.Doc) that will be passed to the preprocess_part2 function below. Loading and parsing all the data using spaCy may take a while, so we've set it up to save the processed docs to a pickle file (saved in the same folder in your Google Drive where you put the dataset) that will be reloaded the next time(s) you run the cell.\n",
        "\n",
        "When debugging, you may find that having too many tweets will make debugging difficult. Feel free to change `NUM_TWEETS` to a smaller number while debugging, but make sure to change it back once finished.\n"
      ]
    },
    {
      "cell_type": "code",
      "execution_count": null,
      "metadata": {
        "id": "llXP-yFMnUJ8"
      },
      "outputs": [],
      "source": [
        "spacy_doc: TypeAlias = spacy.tokens.doc.Doc\n",
        "\n",
        "NUM_TWEETS = 5000  # INFO: Feel free to change this to load in fewer tweets when debugging, but otherwise keep it at 5000\n",
        "nlp = spacy.load(\"en_core_web_sm\")\n",
        "CACHE_PATH = f\"{FOLDER}/parsed_{NUM_TWEETS}_tweets.pickle\"\n",
        "\n",
        "if os.path.exists(CACHE_PATH):\n",
        "    print(f\"Loading parsed tweets from cache at {CACHE_PATH}\")\n",
        "    parsed_tweets = pickle.load(open(CACHE_PATH, \"rb\"))\n",
        "else:\n",
        "    # parse all the tweets with spacy\n",
        "    parsed_tweets = []\n",
        "    for i, r in enumerate(raw_tweets):\n",
        "        if i == NUM_TWEETS:\n",
        "            break\n",
        "        parsed_tweets.append(nlp(r))\n",
        "        if (i + 1) % 500 == 0:\n",
        "            print(f\"Processed {i + 1} out of {len(raw_tweets)}\", end=\"\\r\")\n",
        "    print(\"Processing complete\")\n",
        "    if CACHE_PATH is not None:\n",
        "        pickle.dump(parsed_tweets, open(CACHE_PATH, \"wb\"))\n",
        "\n",
        "print(f\"{len(parsed_tweets)} parsed tweets loaded.\")"
      ]
    },
    {
      "cell_type": "markdown",
      "metadata": {
        "id": "_xKdQNr3gUUC"
      },
      "source": [
        "### Re-implement pre-processing"
      ]
    },
    {
      "cell_type": "markdown",
      "metadata": {
        "id": "MXbiOh3dnUJ8"
      },
      "source": [
        "Please implement `preprocessing_part2` to do the following things (not necessarily in this order):\n",
        "\n",
        "- lowercasing\n",
        "- lemmatization\n",
        "- remove stop words\n",
        "- remove punctuation and extra white space\n",
        "- use only top 1000 most frequent words, and replace the rest with \"\\<OOV\\>\"\n",
        "- replace numbers with \"\\<NUM\\>\"\n",
        "\n",
        "**Think about how each step affects the next one in the pipeline.** Specifically, one of these steps makes most sense to do last, so make sure your code reflects that.\n",
        "\n",
        "Your final feature matrix should have 1001 columns (1000 most frequent words and one OOV token).\n",
        "\n",
        "Use spaCy to do these things. You shouldn't need to import any additional libraries (but hint: we've imported the Counter library in a previous cell). You can explore the spaCy documentation [here](https://spacy.io/api/) and [here](http://spacy.pythonhumanities.com/01_02_linguistic_annotations.html#token-attributes).\n"
      ]
    },
    {
      "cell_type": "code",
      "execution_count": null,
      "metadata": {
        "id": "GtH1w0ekqSuo"
      },
      "outputs": [],
      "source": [
        "def preprocess_part2(parsed_tweets: list[spacy_doc], K: int = 1000) -> list[list[str]]:\n",
        "    \"\"\"\n",
        "    Preprocesses the spaCy-parsed tweets.\n",
        "\n",
        "    Parameters\n",
        "    ----------\n",
        "    parsed_tweets : list[spacy_doc]\n",
        "        A list of tweets parsed by spaCy\n",
        "    K : number of most frequent words to include (default: 1000)\n",
        "\n",
        "    Returns\n",
        "    -------\n",
        "        A list of preprocessed tweets formatted as lists of tokens (lists of strings)\n",
        "    \"\"\"\n",
        "    # TODO: preprocessing steps outlined above\n",
        "    pass"
      ]
    },
    {
      "cell_type": "markdown",
      "metadata": {
        "id": "SPYyYr2YnUJ9"
      },
      "source": [
        "Now let's re-run the workflow and observe the difference in performance!\n"
      ]
    },
    {
      "cell_type": "code",
      "execution_count": null,
      "metadata": {
        "id": "swJjfKjNZ0Jr"
      },
      "outputs": [],
      "source": [
        "X_preproc = preprocess_part2(parsed_tweets)\n",
        "bow_model = BOW_Classifier()\n",
        "better_preproc_accs = run_kfold_crossval(bow_model, X_preproc, y, k=K_FOLD)\n",
        "\n",
        "plot_perfs(\n",
        "    [mfc_baseline, basic_bow_accs, better_preproc_accs],\n",
        "    [\"MFC Baseline\", \"Basic BOW\", \"BOW+preproc\"],\n",
        "    k=K_FOLD,\n",
        ")"
      ]
    },
    {
      "cell_type": "markdown",
      "metadata": {
        "id": "DMNapyQfmLHM"
      },
      "source": [
        "# Part 3: Improved Featurization\n"
      ]
    },
    {
      "cell_type": "markdown",
      "metadata": {
        "id": "3tBfdtKCuF2O"
      },
      "source": [
        "In this section, we will expand the featurize function to include more advanced and sophisticated features. You will now add n-grams with n values from 1 to 5 as features to (partially) preserve the order of the sentence.\n",
        "\n",
        "**Note:** You are not allowed to use a CountVectorizer to produce n-grams."
      ]
    },
    {
      "cell_type": "code",
      "execution_count": null,
      "metadata": {
        "id": "AQ38t5IymRqN"
      },
      "outputs": [],
      "source": [
        "class Better_BOW(BOW_Classifier):\n",
        "    \"\"\"\n",
        "    A subclass of BOW_Classifier with a more complex featurization function.\n",
        "\n",
        "    All attribute and method names match those of BOW_Classifier.\n",
        "    \"\"\"\n",
        "\n",
        "    def featurize(self, preproc_X: np.ndarray[list[str]], is_test: bool = False) -> csr_matrix:\n",
        "        \"\"\"\n",
        "        Turns a list of preprocessed tweets into a bag-of-words matrix using n-grams up to 5-grams.\n",
        "\n",
        "        Parameters\n",
        "        ----------\n",
        "        preproc_X : list[list[str]]\n",
        "            A list of preprocessed tweets\n",
        "        is_test: bool, default=False\n",
        "            Whether featurization should be done using features learned during training (is_test=True)\n",
        "            or whether it should be done with features extracted from scratch using preproc_X (is_test=False)\n",
        "\n",
        "        Returns\n",
        "        -------\n",
        "        csr_matrix\n",
        "            A matrix with rows corresponding to tweets and columns corresponding to n-grams\n",
        "        \"\"\"\n",
        "        # TODO: Implement a binary BOW for 1-, 2-, 3-, 4-, and 5-grams\n",
        "        pass"
      ]
    },
    {
      "cell_type": "code",
      "execution_count": null,
      "metadata": {
        "id": "jQfVMtUUnUJ9"
      },
      "outputs": [],
      "source": [
        "X_preproc = preprocess_part2(parsed_tweets)\n",
        "better_bow = Better_BOW()\n",
        "better_feature_accs = run_kfold_crossval(better_bow, X_preproc, y, k=K_FOLD)\n",
        "\n",
        "plot_perfs(\n",
        "    [mfc_baseline, basic_bow_accs, better_preproc_accs, better_feature_accs],\n",
        "    [\"MFC Baseline\", \"Basic BOW\", \"BOW+preproc\", \"Better Features\"],\n",
        "    k=K_FOLD,\n",
        ")"
      ]
    },
    {
      "cell_type": "markdown",
      "metadata": {
        "id": "uxD7CidRer20"
      },
      "source": [
        "# ❗ Conceptual Questions\n",
        "### Type your answer below each question (part) in the Colab cell below. 👇 [Don't miss this section!]"
      ]
    },
    {
      "cell_type": "markdown",
      "metadata": {
        "id": "Y4w65qPFiiYS"
      },
      "source": [
        "1. What do the dimensions of the feature matrix correspond to?\n",
        "2. Find an example of a word that appears in the test set but never appears in the training set. What word did you find, and what is the tweet in which it occurred? **Include the code used to answer this question in the cell below.**\n",
        "3. What happens to that new word when the tweet is featurized at test time? i.e., describe what feature representation of the tweet that contains the unknown word would look like? **(Do not simply copy or write down the literal feature representation)**\n",
        "4. For each of the below preprocessing steps, indicate whether it is likely to result in more features or fewer, **all else being equal**. You can assume you are working with a very large corpus in which all words occur at least once. For each step, provide a one-sentence justification.\n",
        "\n",
        "    a. Lowercasing\n",
        "\n",
        "    b. Vocabulary Thresholding/Replacing Rare Words\n",
        "\n",
        "    c. Spelling out contractions (i.e., \"I'm\" -> \"I am\")\n",
        "\n",
        "    d. Spelling out abbreviations (i.e., \"RI\" -> \"Rhode Island\")\n",
        "\n",
        "    e. Part of Speech Tagging\n",
        "\n",
        "    f. Preserving typeface (i.e., indicating whether a word was italicized or bolded in the original text).\n",
        "\n",
        "5. A bag-of-words model does not take into account word order or number of words. Provide a context where a BOW model might fail for this reason."
      ]
    },
    {
      "cell_type": "code",
      "execution_count": null,
      "metadata": {
        "id": "aLW-5VvfG41-"
      },
      "outputs": [],
      "source": [
        "# TODO: Copy code from other cells and combine them together along with some print statements to find the answer to conceptual question 2"
      ]
    },
    {
      "cell_type": "markdown",
      "metadata": {
        "id": "1NMsRDCMeV3u"
      },
      "source": [
        "# Submission Instructions\n",
        "\n",
        "Please submit this Colab file as **two** files to Gradescope:\n",
        "\n",
        "1.  A `.py` file: Click File > Download > Download .py\n",
        "2.  A `.ipynb` file with outputs: Click Runtime > Run All, and then after all outputs are complete, click File > Download > Download .ipynb\n",
        "\n",
        "Please ensure that the `.ipynb` contains actual function outputs (and not leftover print statements, for instance). We will run your `.ipynb` file; if our outputs don't match the outputs in your submitted file (within reason), you will receive a 0 on this assignment.\n"
      ]
    },
    {
      "cell_type": "markdown",
      "metadata": {
        "id": "_VMdBqbCr8JM"
      },
      "source": [
        "Last updated: 11 Sept 2024\n"
      ]
    }
  ],
  "metadata": {
    "colab": {
      "provenance": [],
      "include_colab_link": true
    },
    "kernelspec": {
      "display_name": "Python 3",
      "name": "python3"
    },
    "language_info": {
      "codemirror_mode": {
        "name": "ipython",
        "version": 3
      },
      "file_extension": ".py",
      "mimetype": "text/x-python",
      "name": "python",
      "nbconvert_exporter": "python",
      "pygments_lexer": "ipython3",
      "version": "3.11.5"
    }
  },
  "nbformat": 4,
  "nbformat_minor": 0
}